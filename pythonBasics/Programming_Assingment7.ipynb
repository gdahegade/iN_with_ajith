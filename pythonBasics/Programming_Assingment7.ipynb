{
 "cells": [
  {
   "cell_type": "markdown",
   "id": "d606b62c",
   "metadata": {},
   "source": [
    "# Programming_Assingment7"
   ]
  },
  {
   "cell_type": "code",
   "execution_count": 4,
   "id": "44843830",
   "metadata": {},
   "outputs": [
    {
     "name": "stdout",
     "output_type": "stream",
     "text": [
      "Enter the array elements to find its sum: 1,2.3,4,.5\n",
      "Sum of array elements [1, 2.3, 4, 0.5] is 7.8\n"
     ]
    }
   ],
   "source": [
    "#1. Write a Python Program to find sum of array?\n",
    "\n",
    "array1 = list(eval(input(\"Enter the array elements to find its sum: \")))\n",
    "print(f\"Sum of array elements {array1} is {sum(array1)}\")"
   ]
  },
  {
   "cell_type": "code",
   "execution_count": 5,
   "id": "72628295",
   "metadata": {},
   "outputs": [
    {
     "name": "stdout",
     "output_type": "stream",
     "text": [
      "Enter the array elements to find largest element in it: 1,2,3.0,2\n",
      "Largest element in the array [1, 2, 3.0, 2] is 3.0\n"
     ]
    }
   ],
   "source": [
    "#2. Write a Python Program to find largest element in an array?\n",
    "\n",
    "array2 = list(eval(input(\"Enter the array elements to find largest element in it: \")))\n",
    "print(f\"Largest element in the array {array2} is {max(array2)}\")"
   ]
  },
  {
   "cell_type": "code",
   "execution_count": 6,
   "id": "2bfc804a",
   "metadata": {},
   "outputs": [
    {
     "name": "stdout",
     "output_type": "stream",
     "text": [
      "Enter the array elements for array rotation: 1,2.3,1,4,5\n",
      "Before array rotation: [1, 2.3, 1, 4, 5]\n",
      "After array rotation: [5, 4, 1, 2.3, 1]\n"
     ]
    }
   ],
   "source": [
    "#3. Write a Python Program for array rotation?\n",
    "\n",
    "array3 = list(eval(input(\"Enter the array elements for array rotation: \")))\n",
    "print(f\"Array before rotation: {array3}\")\n",
    "print(f\"Array after rotation: {array3[::-1]}\")"
   ]
  },
  {
   "cell_type": "code",
   "execution_count": 8,
   "id": "d2550027",
   "metadata": {},
   "outputs": [
    {
     "name": "stdout",
     "output_type": "stream",
     "text": [
      "Enter the array elements to split the array and add the first part to the end: 1,2,3,4,5,6\n",
      "Enter how many elements you want to split from the first element: 3\n",
      "Array before: [1, 2, 3, 4, 5, 6]\n",
      "Array after: [4, 5, 6, 1, 2, 3]\n",
      "First 3 array elements moved to the end of the array\n"
     ]
    }
   ],
   "source": [
    "#4. Write a Python Program to Split the array and add the first part to the end?\n",
    "\n",
    "def splitAndAppendArray(a, pos):\n",
    "    return(a[pos:] + a[:pos])\n",
    "\n",
    "array4 = list(eval(input(\"Enter the array elements to split the array and add the first part to the end: \")))\n",
    "position = int(input(\"Enter how many elements you want to split from the first element: \"))\n",
    "print(f\"Array before: {array4}\")\n",
    "print(f\"Array after: {splitAndAppendArray(array4, position)}\")\n",
    "print(f\"First {position} array elements moved to the end of the array\")\n"
   ]
  },
  {
   "cell_type": "code",
   "execution_count": 21,
   "id": "3b35ecda",
   "metadata": {},
   "outputs": [
    {
     "name": "stdout",
     "output_type": "stream",
     "text": [
      "Enter array more than one element to check if it is monotonic: 7,5,3,1\n",
      "Is entered array monotonic? : True\n"
     ]
    }
   ],
   "source": [
    "#5. Write a Python Program to check if given array is Monotonic?\n",
    "\n",
    "array5 = list(eval(input(\"Enter array more than one element to check if it is monotonic: \")))\n",
    "if len(array5) == 1:\n",
    "    monotonic = True\n",
    "    print(f\"Is entered array monotonic? : {monotonic}\")\n",
    "else :\n",
    "    increase = True\n",
    "    descrease = True\n",
    "    for i in range(len(array5)-1):\n",
    "        if array5[i] > array5[i+1]:\n",
    "            increase = False\n",
    "        if array5[i] < array5[i+1]:\n",
    "            descrease = False\n",
    "\n",
    "    monotonic = increase | descrease\n",
    "    print(f\"Is entered array monotonic? : {monotonic}\")"
   ]
  },
  {
   "cell_type": "code",
   "execution_count": null,
   "id": "25d028e3",
   "metadata": {},
   "outputs": [],
   "source": []
  }
 ],
 "metadata": {
  "kernelspec": {
   "display_name": "Python 3 (ipykernel)",
   "language": "python",
   "name": "python3"
  },
  "language_info": {
   "codemirror_mode": {
    "name": "ipython",
    "version": 3
   },
   "file_extension": ".py",
   "mimetype": "text/x-python",
   "name": "python",
   "nbconvert_exporter": "python",
   "pygments_lexer": "ipython3",
   "version": "3.9.12"
  }
 },
 "nbformat": 4,
 "nbformat_minor": 5
}
