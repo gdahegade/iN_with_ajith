{
 "cells": [
  {
   "cell_type": "markdown",
   "id": "60f6d8cd",
   "metadata": {},
   "source": [
    "# Programming_Assingment9"
   ]
  },
  {
   "cell_type": "markdown",
   "id": "2335b491",
   "metadata": {},
   "source": [
    "### 1. Write a Python program to check if the given number is a Disarium Number"
   ]
  },
  {
   "cell_type": "code",
   "execution_count": 15,
   "id": "678e3085",
   "metadata": {},
   "outputs": [
    {
     "name": "stdout",
     "output_type": "stream",
     "text": [
      "Enter a number to check Disarium: 175\n",
      "n= 175, i = 0, n[0] = 1, sum = 1\n",
      "n= 175, i = 1, n[1] = 7, sum = 50\n",
      "n= 175, i = 2, n[2] = 5, sum = 175\n",
      "Given number 175 is Disarium Number\n"
     ]
    }
   ],
   "source": [
    "# A number is a Disarium number \n",
    "# if the sum of each digit\n",
    "# raised to the power of their respective positions\n",
    "# is equal to the original number\n",
    "\n",
    "def checkDisarium(n):\n",
    "    sm = 0\n",
    "    for i in range(len(n)):\n",
    "        sm = sm + int(n[i]) ** (i+1)\n",
    "        print(f\"i = {i}, n[{i}] = {n[i]}, sum = {sm}\")\n",
    "    if int(sm) == int(n):\n",
    "        print(f\"Given number {n} is Disarium Number\")\n",
    "    else:\n",
    "        print(f\"Given number {n} is Not Disarium Number\")\n",
    "\n",
    "\n",
    "num = input(\"Enter a number to check Disarium: \")\n",
    "checkDisarium(num)"
   ]
  },
  {
   "cell_type": "markdown",
   "id": "44426ce4",
   "metadata": {},
   "source": [
    "### 2. Write a Python program to print all disarium numbers between 1 to 100"
   ]
  },
  {
   "cell_type": "code",
   "execution_count": 40,
   "id": "69bf9cdf",
   "metadata": {},
   "outputs": [
    {
     "name": "stdout",
     "output_type": "stream",
     "text": [
      "Disarium numbers between 1 to 100 are: \n",
      "\n",
      "[1, 2, 3, 4, 5, 6, 7, 8, 9, 89]\n"
     ]
    }
   ],
   "source": [
    "print(\"Disarium numbers between 1 to 100 are: \\n\")\n",
    "disarium_list = []\n",
    "for i in range(1,101):\n",
    "    sm = 0\n",
    "    i = str(i)\n",
    "    for j in range(len(i)):\n",
    "        sm = sm + (int(i[j]) ** (j+1))\n",
    "    if sm == int(i):\n",
    "        disarium_list.append(sm)\n",
    "\n",
    "print(disarium_list)\n"
   ]
  },
  {
   "cell_type": "markdown",
   "id": "fafe0df7",
   "metadata": {},
   "source": [
    "### 3. Write a Python program to check if the given number is Happy Number"
   ]
  },
  {
   "cell_type": "code",
   "execution_count": 86,
   "id": "827e2e2f",
   "metadata": {},
   "outputs": [
    {
     "name": "stdout",
     "output_type": "stream",
     "text": [
      "Given number 97 is Happy Number\n",
      "====================\n",
      "Given number 32 is Happy Number\n",
      "====================\n",
      "Given number 45 is Not Happy Number\n",
      "====================\n",
      "Given number 15 is Not Happy Number\n",
      "====================\n"
     ]
    }
   ],
   "source": [
    "#A number is said to be happy number\n",
    "#if it yields 1 \n",
    "#when replaced by \n",
    "#the sum of squares of its digits repeatedly\n",
    "\n",
    "def checkHappyNumber(n):\n",
    "    num = n\n",
    "    sm = 0\n",
    "    i = 0\n",
    "    while True:\n",
    "        if i >= len(str(n)):\n",
    "            break\n",
    "        else:\n",
    "            sm = sm + (int(str(n)[i]) ** 2)\n",
    "            i = i + 1\n",
    "            if len(str(sm)) != 1 and i >= len(str(n)):\n",
    "                n = sm\n",
    "                sm = 0\n",
    "                i = 0            \n",
    "    if len(str(sm)) == 1 and sm == 1:\n",
    "        print(f\"Given number {num} is Happy Number\")\n",
    "    else :\n",
    "        print(f\"Given number {num} is Not Happy Number\")\n",
    "    \n",
    "checkHappyNumber(97)\n",
    "print(\"====================\")\n",
    "checkHappyNumber(32)\n",
    "print(\"====================\")\n",
    "checkHappyNumber(45)\n",
    "print(\"====================\")\n",
    "checkHappyNumber(15)\n",
    "print(\"====================\")"
   ]
  },
  {
   "cell_type": "markdown",
   "id": "da4c1ad6",
   "metadata": {},
   "source": [
    "### 4. Write a Python program to print all happy numbers between 1 and 100"
   ]
  },
  {
   "cell_type": "code",
   "execution_count": 89,
   "id": "39c7c464",
   "metadata": {},
   "outputs": [
    {
     "name": "stdout",
     "output_type": "stream",
     "text": [
      "Happy numbers between 1 and 100 are:\n",
      "[1, 7, 10, 13, 19, 23, 28, 31, 32, 44, 49, 68, 70, 79, 82, 86, 91, 94, 97, 100]\n"
     ]
    }
   ],
   "source": [
    "print(\"Happy numbers between 1 and 100 are:\")\n",
    "happy_num = []\n",
    "for j in range(1,101):\n",
    "    sm = 0\n",
    "    i = 0\n",
    "    n = j\n",
    "    while True:\n",
    "        if i >= len(str(n)):\n",
    "            break\n",
    "        else:\n",
    "            sm = sm + (int(str(n)[i]) ** 2)\n",
    "            i = i + 1\n",
    "            if len(str(sm)) != 1 and i >= len(str(n)):\n",
    "                n = sm\n",
    "                sm = 0\n",
    "                i = 0\n",
    "    if len(str(sm)) == 1 and sm == 1:\n",
    "        happy_num.append(j)\n",
    "print(happy_num)"
   ]
  },
  {
   "cell_type": "markdown",
   "id": "c7fdc0c0",
   "metadata": {},
   "source": [
    "### 5. Write a Python program to determine whether the given number is a Harshad Number"
   ]
  },
  {
   "cell_type": "code",
   "execution_count": 102,
   "id": "8bc45094",
   "metadata": {},
   "outputs": [
    {
     "name": "stdout",
     "output_type": "stream",
     "text": [
      "Sum of digits of given number 10 is 1 which can perfectly divide 10. Hence it is Harshad number\n",
      "=================\n",
      "Sum of digits of given number 156 is 12 which can perfectly divide 156. Hence it is Harshad number\n",
      "=================\n",
      "Sum of digits of given number 123 is 6 which can not perfectly divide 123. Hence it is Not Harshad number\n",
      "=================\n",
      "Sum of digits of given number 12367 is 19 which can not perfectly divide 12367. Hence it is Not Harshad number\n",
      "=================\n"
     ]
    }
   ],
   "source": [
    "# If a number is divisible by the sum of its digits\n",
    "#then it will be known as a Harshad Numbe\n",
    "\n",
    "def checkHarshadNumber(n):\n",
    "    sm = 0\n",
    "    for i in range(len(str(n))):\n",
    "        sm = sm + int(str(n)[i])\n",
    "    remainder = int(n) % sm\n",
    "    if remainder == 0 :\n",
    "        print(f\"Sum of digits of given number {n} is {sm} which can perfectly divide {n}. Hence it is Harshad number\")\n",
    "    else:\n",
    "        print(f\"Sum of digits of given number {n} is {sm} which can not perfectly divide {n}. Hence it is Not Harshad number\")\n",
    "\n",
    "checkHarshadNumber(10)\n",
    "print(\"=================\")\n",
    "checkHarshadNumber(156)\n",
    "print(\"=================\")\n",
    "checkHarshadNumber(123)\n",
    "print(\"=================\")\n",
    "checkHarshadNumber(12367)\n",
    "print(\"=================\")"
   ]
  },
  {
   "cell_type": "markdown",
   "id": "6d6c4227",
   "metadata": {},
   "source": [
    "### 6. Write a Python program to print all pronic numbers between 1 and 100"
   ]
  },
  {
   "cell_type": "code",
   "execution_count": 107,
   "id": "b6e6930a",
   "metadata": {},
   "outputs": [
    {
     "name": "stdout",
     "output_type": "stream",
     "text": [
      "Pronic numbers between 1 and 100 are:\n",
      "[2, 6, 12, 20, 30, 42, 56, 72, 90]\n"
     ]
    }
   ],
   "source": [
    "# Pronic number is a number which is the product of two consecutive integers\n",
    "print(\"Pronic numbers between 1 and 100 are:\")\n",
    "x = []\n",
    "for i in range(1,101):\n",
    "    if i * (i+1) <= 100:\n",
    "        x.append(i * (i+1))\n",
    "print(x)"
   ]
  },
  {
   "cell_type": "code",
   "execution_count": null,
   "id": "4313ee3c",
   "metadata": {},
   "outputs": [],
   "source": []
  }
 ],
 "metadata": {
  "kernelspec": {
   "display_name": "Python 3 (ipykernel)",
   "language": "python",
   "name": "python3"
  },
  "language_info": {
   "codemirror_mode": {
    "name": "ipython",
    "version": 3
   },
   "file_extension": ".py",
   "mimetype": "text/x-python",
   "name": "python",
   "nbconvert_exporter": "python",
   "pygments_lexer": "ipython3",
   "version": "3.9.12"
  }
 },
 "nbformat": 4,
 "nbformat_minor": 5
}
