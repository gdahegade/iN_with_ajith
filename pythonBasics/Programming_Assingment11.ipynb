{
 "cells": [
  {
   "cell_type": "markdown",
   "id": "ba3de053",
   "metadata": {},
   "source": [
    "# Programming_Assingment11"
   ]
  },
  {
   "cell_type": "code",
   "execution_count": null,
   "id": "f076c658",
   "metadata": {},
   "outputs": [],
   "source": [
    "1. Write a Python program to find words which are greater than given length k?\n",
    "2. Write a Python program for removing i-th character from a string?\n",
    "3. Write a Python program to split and join a string?\n",
    "4. Write a Python to check if a given string is binary string or not?\n",
    "5. Write a Python program to find uncommon words from two Strings?\n",
    "6. Write a Python to find all duplicate characters in string?\n",
    "7. Write a Python Program to check if a string contains any special character?"
   ]
  },
  {
   "cell_type": "markdown",
   "id": "fbe92bb8",
   "metadata": {},
   "source": [
    "### 1. Write a Python program to find words which are greater than given length k"
   ]
  },
  {
   "cell_type": "code",
   "execution_count": 3,
   "id": "d2bcd944",
   "metadata": {},
   "outputs": [
    {
     "name": "stdout",
     "output_type": "stream",
     "text": [
      "Enter the string: as as sdfsfg dfgfdg asd\n",
      "Enter the maximum word length: 3\n",
      "Words which are greated than length 3 in given string as as sdfsfg dfgfdg asd are:\n",
      " ['sdfsfg', 'dfgfdg']\n"
     ]
    }
   ],
   "source": [
    "in_str = input(\"Enter the string: \")\n",
    "in_len = int(input(\"Enter the maximum word length: \"))\n",
    "out_lst = []\n",
    "for i in in_str.split():\n",
    "    if len(i) > in_len:\n",
    "        out_lst.append(i)\n",
    "\n",
    "print(f\"Words which are greated than length {in_len} in given string {in_str} are:\\n {out_lst}\")\n",
    "    "
   ]
  },
  {
   "cell_type": "markdown",
   "id": "ec293983",
   "metadata": {},
   "source": [
    "### 2.Write a Python program for removing i-th character from a string"
   ]
  },
  {
   "cell_type": "code",
   "execution_count": 25,
   "id": "f4bfa862",
   "metadata": {
    "scrolled": true
   },
   "outputs": [
    {
     "name": "stdout",
     "output_type": "stream",
     "text": [
      "Enter a string: asdf\n",
      "Enter the char position less than number 5 to remove from the input string: 4\n",
      "Before removing the character from the position 4, string is: \n",
      " asdf\n",
      "After removing the character from the position 4, string is: \n",
      " asd\n"
     ]
    }
   ],
   "source": [
    "in_str1 = input(\"Enter a string: \")\n",
    "in_nChar = int(input(\"Enter the char position less than number \" + str(len(in_str1)+1) +\" to remove from the input string: \"))\n",
    "print(f\"Before removing the character from the position {in_nChar}, string is: \\n {in_str1}\")\n",
    "\n",
    "# out_str1 = in_str1.replace(in_str1[in_nChar-1],\"\") --> this will work if string contains descrete char only\n",
    "\n",
    "out_str1 = in_str1[:in_nChar-1] + in_str1[in_nChar:]\n",
    "\n",
    "print(f\"After removing the character from the position {in_nChar}, string is: \\n {out_str1}\")"
   ]
  },
  {
   "cell_type": "markdown",
   "id": "7f83ae05",
   "metadata": {},
   "source": [
    "### 3. Write a Python program to split and join a string"
   ]
  },
  {
   "cell_type": "code",
   "execution_count": 29,
   "id": "37e93b9b",
   "metadata": {},
   "outputs": [
    {
     "name": "stdout",
     "output_type": "stream",
     "text": [
      "Enter the string: hi hello how are you\n",
      "String split: ['hi', 'hello', 'how', 'are', 'you']\n",
      "String split and join: hi hello how are you\n"
     ]
    }
   ],
   "source": [
    "in_str2 = input('Enter the string: ')\n",
    "print(f\"String split: {in_str2.split()}\")\n",
    "print(f\"String split and join: {' '.join(in_str2.split())}\")"
   ]
  },
  {
   "cell_type": "markdown",
   "id": "48d0c59d",
   "metadata": {},
   "source": [
    "### 4. Write a Python to check if a given string is binary string or not"
   ]
  },
  {
   "cell_type": "code",
   "execution_count": 35,
   "id": "bd3aae29",
   "metadata": {},
   "outputs": [
    {
     "name": "stdout",
     "output_type": "stream",
     "text": [
      "Enter the string to check if it is binary or not: 123ddf10101\n",
      "Given string 123ddf10101 is Not Binary string\n"
     ]
    }
   ],
   "source": [
    "in_str4 = input(\"Enter the string to check if it is binary or not: \")\n",
    "bin_set = set(in_str4)\n",
    "if bin_set == {'0'} or bin_set == {'1'} or bin_set == {'0','1'} :\n",
    "    print(f\"Given string {in_str4} is Binary string\")\n",
    "else:\n",
    "    print(f\"Given string {in_str4} is Not Binary string\")"
   ]
  },
  {
   "cell_type": "markdown",
   "id": "e626bb2c",
   "metadata": {},
   "source": [
    "### 5. Write a Python program to find uncommon words from two Strings"
   ]
  },
  {
   "cell_type": "code",
   "execution_count": 38,
   "id": "8a757a95",
   "metadata": {},
   "outputs": [
    {
     "name": "stdout",
     "output_type": "stream",
     "text": [
      "Enter the string1 to find uncommon words: hi hello\n",
      "Enter the string2 to find uncommon words: hi asdf asdf\n",
      "Uncommon words between the strings are:  {'asdf', 'hello'}\n"
     ]
    }
   ],
   "source": [
    "in_str5 = input(\"Enter the string1 to find uncommon words: \")\n",
    "in_str6 = input(\"Enter the string2 to find uncommon words: \")\n",
    "bin_set2 = set(in_str5.split()).symmetric_difference(in_str6.split())\n",
    "print(\"Uncommon words between the strings are: \", bin_set2)\n"
   ]
  },
  {
   "cell_type": "markdown",
   "id": "48e3224d",
   "metadata": {},
   "source": [
    "### 6. Write a Python to find all duplicate characters in string"
   ]
  },
  {
   "cell_type": "code",
   "execution_count": 43,
   "id": "a7f4edfb",
   "metadata": {},
   "outputs": [
    {
     "name": "stdout",
     "output_type": "stream",
     "text": [
      "Enter the string to find all duplicate characters in it: asdf as e r t t\n",
      "Duplicate characters in the string- asdf as e r t t are: \n",
      " ['a', 's', 't']\n"
     ]
    }
   ],
   "source": [
    "in_str7 = input(\"Enter the string to find all duplicate characters in it: \")\n",
    "dup=[]\n",
    "for char in in_str7:\n",
    "    if in_str7.count(char)> 1 and char not in dup and char != ' ':\n",
    "        dup.append(char)\n",
    "print(f\"Duplicate characters in the string- {in_str7} are: \\n {dup}\")"
   ]
  },
  {
   "cell_type": "markdown",
   "id": "21ad9af7",
   "metadata": {},
   "source": [
    "### 7. Write a Python Program to check if a string contains any special character"
   ]
  },
  {
   "cell_type": "code",
   "execution_count": 44,
   "id": "d85bf00b",
   "metadata": {},
   "outputs": [
    {
     "name": "stdout",
     "output_type": "stream",
     "text": [
      "All available punctuations or special characters are: \n",
      " !\"#$%&'()*+,-./:;<=>?@[\\]^_`{|}~\n",
      "String contains special character\n"
     ]
    }
   ],
   "source": [
    "import string\n",
    "# print(\"All available punctuations or special characters are: \\n\", string.punctuation)\n",
    "\n",
    "#make use of \"\"\" \"\"\" to define string bcoz punctuation includes \" and '\n",
    "s = \"\"\"a!b\"c#d$e%f&g'h(i)j*k+l,m-n.q/p:r;s<t=u>v?w@x[y\\z]a^b_c`d{e|f}g~h\"\"\"\n",
    "containsSpecial = False\n",
    "for i in s :\n",
    "    if i in string.punctuation:\n",
    "        containsSpecial = True\n",
    "        break\n",
    "if containsSpecial == True:\n",
    "    print(\"String contains special character\")\n",
    "else:\n",
    "    print(\"String does not contain special character\")"
   ]
  },
  {
   "cell_type": "code",
   "execution_count": null,
   "id": "d2b4b5db",
   "metadata": {},
   "outputs": [],
   "source": []
  }
 ],
 "metadata": {
  "kernelspec": {
   "display_name": "Python 3 (ipykernel)",
   "language": "python",
   "name": "python3"
  },
  "language_info": {
   "codemirror_mode": {
    "name": "ipython",
    "version": 3
   },
   "file_extension": ".py",
   "mimetype": "text/x-python",
   "name": "python",
   "nbconvert_exporter": "python",
   "pygments_lexer": "ipython3",
   "version": "3.9.12"
  }
 },
 "nbformat": 4,
 "nbformat_minor": 5
}
