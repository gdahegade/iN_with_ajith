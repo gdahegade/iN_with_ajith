{
 "cells": [
  {
   "cell_type": "markdown",
   "id": "f4a00148",
   "metadata": {},
   "source": [
    "# Programming_Assingment10"
   ]
  },
  {
   "cell_type": "markdown",
   "id": "02f8ef62",
   "metadata": {},
   "source": [
    "### 1. Write a Python program to find sum of elements in list?"
   ]
  },
  {
   "cell_type": "code",
   "execution_count": 20,
   "id": "e45e64f0",
   "metadata": {},
   "outputs": [
    {
     "name": "stdout",
     "output_type": "stream",
     "text": [
      "Enter numbers to compute sum: 1,2,3\n",
      "Sum of addable elements in the list is:  6.0\n"
     ]
    }
   ],
   "source": [
    "l = map(float, input(\"Enter numbers separated by comma to compute sum: \").split(','))\n",
    "print(\"Sum of addable elements in the list is: \", sum(l))"
   ]
  },
  {
   "cell_type": "markdown",
   "id": "06ac085b",
   "metadata": {},
   "source": [
    "### 2. Write a Python program to Multiply all numbers in the list"
   ]
  },
  {
   "cell_type": "code",
   "execution_count": 25,
   "id": "780be935",
   "metadata": {},
   "outputs": [
    {
     "name": "stdout",
     "output_type": "stream",
     "text": [
      "Enter numbers separated by comma to compute product: 1,2,3,4,5\n",
      "--------- using math functions --------------\n",
      "Product of list elements is:  120.0\n"
     ]
    }
   ],
   "source": [
    "from functools import reduce\n",
    "import math\n",
    "import numpy as pd\n",
    "\n",
    "l = map(float, input(\"Enter numbers separated by comma to compute product: \").split(','))\n",
    "\n",
    "print(\"--------- using math functions --------------\")\n",
    "m_pr = math.prod(l)\n",
    "print(\"Product of list elements is: \", m_pr)\n",
    "\n",
    "# print(\"--------- using lambda functions --------------\")\n",
    "# l_pr = reduce((lambda x, y : x * y), l)\n",
    "# print(\"Product of list elements is: \", l_pr)\n",
    "\n",
    "# print(\"--------- using numpy functions --------------\")\n",
    "# np_pr = np.prod(l)\n",
    "# print(\"Product of list elements is: \", np_pr)\n",
    "\n"
   ]
  },
  {
   "cell_type": "markdown",
   "id": "5d33291d",
   "metadata": {},
   "source": [
    "### 3. Write a Python program to find smallest number in a list"
   ]
  },
  {
   "cell_type": "code",
   "execution_count": 29,
   "id": "4583c07d",
   "metadata": {},
   "outputs": [
    {
     "name": "stdout",
     "output_type": "stream",
     "text": [
      "Enter numbers separated by comma to compute smallest number: 4,5,3,1\n",
      "Smallest number in the list is : 1.0\n"
     ]
    }
   ],
   "source": [
    "l = map(float, input(\"Enter numbers separated by comma to compute smallest number: \").split(','))\n",
    "print(f\"Smallest number in the list is : {min(l)}\")"
   ]
  },
  {
   "cell_type": "markdown",
   "id": "d831256c",
   "metadata": {},
   "source": [
    "### 4. Write a Python program to find largest number in a list"
   ]
  },
  {
   "cell_type": "code",
   "execution_count": 31,
   "id": "eebccbf3",
   "metadata": {},
   "outputs": [
    {
     "name": "stdout",
     "output_type": "stream",
     "text": [
      "Enter numbers separated by comma to compute largest number: 4,3,6,1\n",
      "Larget number in the list is : 6.0\n"
     ]
    }
   ],
   "source": [
    "l = map(float, input(\"Enter numbers separated by comma to compute largest number: \").split(','))\n",
    "print(f\"Larget number in the list is : {max(l)}\")"
   ]
  },
  {
   "cell_type": "markdown",
   "id": "52b0bfd4",
   "metadata": {},
   "source": [
    "### 5. Write a Python program to find second largest number in a list"
   ]
  },
  {
   "cell_type": "code",
   "execution_count": 45,
   "id": "4f787289",
   "metadata": {},
   "outputs": [
    {
     "name": "stdout",
     "output_type": "stream",
     "text": [
      "Enter numbers separated by comma to compute second largest number: 3,2,5,1,6,2\n",
      "Second largest number in the sorted list [1, 2, 2, 3, 5, 6] is 5\n"
     ]
    }
   ],
   "source": [
    "# sort the list and get the second larget\n",
    "l = list(map(int,input(\"Enter numbers separated by comma to compute second largest number: \").split(',')))\n",
    "l.sort()\n",
    "print(f\"Second largest number in the sorted list {l} is {l[-2]}\")"
   ]
  },
  {
   "cell_type": "markdown",
   "id": "fa0df06c",
   "metadata": {},
   "source": [
    "### 6. Write a Python program to find N largest elements from a list "
   ]
  },
  {
   "cell_type": "code",
   "execution_count": 47,
   "id": "997ebe29",
   "metadata": {},
   "outputs": [
    {
     "name": "stdout",
     "output_type": "stream",
     "text": [
      "Enter numbers separated by comma to compute N'th largest number: 5,2,4,1,7,8,3,4\n",
      "Enter the N'th largest number to find: 6\n",
      "Second largest number in the sorted list [1, 2, 3, 4, 4, 5, 7, 8] is 3\n"
     ]
    }
   ],
   "source": [
    "# sort the list and get the needed larget number\n",
    "l = list(map(int,input(\"Enter numbers separated by comma to compute N'th largest number: \").split(',')))\n",
    "l.sort()\n",
    "x = int(input(\"Enter the N'th largest number to find: \"))\n",
    "print(f\"Second largest number in the sorted list {l} is {l[-x]}\")"
   ]
  },
  {
   "cell_type": "markdown",
   "id": "98926399",
   "metadata": {},
   "source": [
    "### 7. Write a Python program to print even numbers in a list"
   ]
  },
  {
   "cell_type": "code",
   "execution_count": 53,
   "id": "810c929f",
   "metadata": {},
   "outputs": [
    {
     "name": "stdout",
     "output_type": "stream",
     "text": [
      "Enter numbers separated by comma to print even numbers: 1,2,3,4\n",
      "Even numbers in the list [1, 2, 3, 4] are: \n",
      "2\n",
      "4\n"
     ]
    }
   ],
   "source": [
    "l = list(map(int,input(\"Enter numbers separated by comma to print even numbers: \").split(',')))\n",
    "print(f\"Even numbers in the list {l} are: \")\n",
    "for i in l:\n",
    "    if i % 2 == 0:\n",
    "        print(i)"
   ]
  },
  {
   "cell_type": "markdown",
   "id": "c8b2478b",
   "metadata": {},
   "source": [
    "### 8. Write a Python program to print odd numbers in a List"
   ]
  },
  {
   "cell_type": "code",
   "execution_count": 54,
   "id": "2c40bb63",
   "metadata": {},
   "outputs": [
    {
     "name": "stdout",
     "output_type": "stream",
     "text": [
      "Enter numbers separated by comma to print odd numbers: 1,2,3,4\n",
      "Odd numbers in the list [1, 2, 3, 4] are: \n",
      "1\n",
      "3\n"
     ]
    }
   ],
   "source": [
    "l = list(map(int,input(\"Enter numbers separated by comma to print odd numbers: \").split(',')))\n",
    "print(f\"Odd numbers in the list {l} are: \")\n",
    "for i in l:\n",
    "    if i % 2 != 0:\n",
    "        print(i)"
   ]
  },
  {
   "cell_type": "markdown",
   "id": "9992f740",
   "metadata": {},
   "source": [
    "### 9. Write a Python program to Remove empty List from List"
   ]
  },
  {
   "cell_type": "code",
   "execution_count": 70,
   "id": "5c0d9073",
   "metadata": {},
   "outputs": [
    {
     "name": "stdout",
     "output_type": "stream",
     "text": [
      "Before removing the empty list from the list: [1, 2, [], 3, 'a', 'b', [1, 1]]\n",
      "After removing the empty list from the list: [1, 2, 3, 'a', 'b', [1, 1]]\n"
     ]
    }
   ],
   "source": [
    "emptyList = [1,2,[ ],3,\"a\",\"b\",[1,1]]\n",
    "print(f\"Before removing the empty list from the list: {emptyList}\")\n",
    "if [] in emptyList:\n",
    "    emptyList.remove([])\n",
    "    \n",
    "print(f\"After removing the empty list from the list: {emptyList}\")    "
   ]
  },
  {
   "cell_type": "markdown",
   "id": "835e0ba6",
   "metadata": {},
   "source": [
    "### 10. Write a Python program to Cloning or Copying a list"
   ]
  },
  {
   "cell_type": "code",
   "execution_count": 71,
   "id": "664541be",
   "metadata": {},
   "outputs": [
    {
     "name": "stdout",
     "output_type": "stream",
     "text": [
      "Original list: ['a', 1, 2, 3] with id: 1716594232256\n",
      "Copy list: ['a', 1, 2, 3] with id: 1716594249600\n"
     ]
    }
   ],
   "source": [
    "lst1 = ['a', 1,2,3]\n",
    "lst2 = lst1.copy()\n",
    "\n",
    "print(f\"Original list: {lst1} with id: {id(lst1)}\")\n",
    "print(f\"Copy list: {lst2} with id: {id(lst2)}\")"
   ]
  },
  {
   "cell_type": "markdown",
   "id": "400d2228",
   "metadata": {},
   "source": [
    "### 11. Write a Python program to Count occurrences of an element in a list"
   ]
  },
  {
   "cell_type": "code",
   "execution_count": 104,
   "id": "7ca378ad",
   "metadata": {},
   "outputs": [
    {
     "name": "stdout",
     "output_type": "stream",
     "text": [
      "Enter the element to find its occurence in the list: 2\n",
      "Element 2 occured 5 times in the list [1, 2, 345, 54, 2, 3, 2, 2, 2, 4, 5]\n"
     ]
    }
   ],
   "source": [
    "lst3 = [1,2,345,54,2,3,2,2,2,4,5]\n",
    "ele = int(input(\"Enter the element to find its occurence in the list: \"))\n",
    "# count = [i for i, x in enumerate(lst3) if x == ele]\n",
    "print(f\"Element {ele} occured {lst3.count(ele)} times in the list {lst3}\")"
   ]
  }
 ],
 "metadata": {
  "kernelspec": {
   "display_name": "Python 3 (ipykernel)",
   "language": "python",
   "name": "python3"
  },
  "language_info": {
   "codemirror_mode": {
    "name": "ipython",
    "version": 3
   },
   "file_extension": ".py",
   "mimetype": "text/x-python",
   "name": "python",
   "nbconvert_exporter": "python",
   "pygments_lexer": "ipython3",
   "version": "3.9.12"
  }
 },
 "nbformat": 4,
 "nbformat_minor": 5
}
