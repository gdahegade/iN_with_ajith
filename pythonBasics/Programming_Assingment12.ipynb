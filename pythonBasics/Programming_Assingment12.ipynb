{
 "cells": [
  {
   "cell_type": "markdown",
   "id": "ba95c322",
   "metadata": {},
   "source": [
    "# Programming_Assingment12"
   ]
  },
  {
   "cell_type": "markdown",
   "id": "4ea1260f",
   "metadata": {},
   "source": [
    "### 1. Write a Python program to Extract Unique values dictionary values?"
   ]
  },
  {
   "cell_type": "code",
   "execution_count": 9,
   "id": "afe5b9ae",
   "metadata": {},
   "outputs": [
    {
     "name": "stdout",
     "output_type": "stream",
     "text": [
      "Unique dictionary values are: {'bcd', 'abc', 'mno'}\n"
     ]
    }
   ],
   "source": [
    "dict1 = {1:\"abc\", 2:\"bcd\", 3:\"abc\", 4:\"mno\"}\n",
    "print(f\"Unique dictionary values are: {set(dict1.values())}\")\n"
   ]
  },
  {
   "cell_type": "markdown",
   "id": "026d9dfe",
   "metadata": {},
   "source": [
    "### 2. Write a Python program to find the sum of all items in a dictionary?"
   ]
  },
  {
   "cell_type": "code",
   "execution_count": 10,
   "id": "78c1a793",
   "metadata": {},
   "outputs": [
    {
     "name": "stdout",
     "output_type": "stream",
     "text": [
      "Sum of all dictionary items is: 12\n"
     ]
    }
   ],
   "source": [
    "dict2 = {\"a\":2, \"b\":4, \"c\":6}\n",
    "print(f\"Sum of all dictionary items is: {sum(dict2.values())}\")"
   ]
  },
  {
   "cell_type": "markdown",
   "id": "7fad6107",
   "metadata": {},
   "source": [
    "### 3. Write a Python program to Merging two Dictionaries?"
   ]
  },
  {
   "cell_type": "code",
   "execution_count": 19,
   "id": "b420f7f3",
   "metadata": {},
   "outputs": [
    {
     "name": "stdout",
     "output_type": "stream",
     "text": [
      "After merging two dictionaries: \n",
      " {'a': 1, 'b': 2, 'c': 3, 'd': 4, 'e': 5}\n"
     ]
    }
   ],
   "source": [
    "dict3 = {'a': 1, 'b': 2}\n",
    "dict4 = {'c': 3, 'd': 4, 'e':5}\n",
    "d = dict3 | dict4\n",
    "print(f\"After merging two dictionaries: \\n {d}\")"
   ]
  },
  {
   "cell_type": "markdown",
   "id": "fc92ecd5",
   "metadata": {},
   "source": [
    "### 4. Write a Python program to convert key-values list to flat dictionary?"
   ]
  },
  {
   "cell_type": "code",
   "execution_count": 21,
   "id": "2557b421",
   "metadata": {},
   "outputs": [
    {
     "name": "stdout",
     "output_type": "stream",
     "text": [
      "Flat dictionary is: \n",
      " {1: 'a', 2: ['b'], 3: 'c'}\n"
     ]
    }
   ],
   "source": [
    "kvList = [(1,'a'),(2,['b']),(3,'c')]\n",
    "print(f\"Flat dictionary is: \\n {dict(kvList)}\")\n"
   ]
  },
  {
   "cell_type": "markdown",
   "id": "15f93f1a",
   "metadata": {},
   "source": [
    "### 5. Write a Python program to insertion at the beginning in OrderedDict?"
   ]
  },
  {
   "cell_type": "code",
   "execution_count": 24,
   "id": "c83d4f44",
   "metadata": {},
   "outputs": [
    {
     "name": "stdout",
     "output_type": "stream",
     "text": [
      "After inserting element at the beginning of Dictionary :\n",
      " OrderedDict([('pos1', 4), ('a', 1), ('b', 1), ('c', 3)])\n"
     ]
    }
   ],
   "source": [
    "from collections import OrderedDict  \n",
    "orDict = OrderedDict([('a',1), ('b',1), ('c',3)])\n",
    "\n",
    "orDict.update({\"pos1\": 4})\n",
    "\n",
    "orDict.move_to_end(\"pos1\", last=False)\n",
    "print (f\"After inserting element at the beginning of Dictionary :\\n {orDict}\")"
   ]
  },
  {
   "cell_type": "markdown",
   "id": "99904c50",
   "metadata": {},
   "source": [
    "### 6. Write a Python program to check order of character in string using OrderedDict()?"
   ]
  },
  {
   "cell_type": "code",
   "execution_count": 38,
   "id": "c9361531",
   "metadata": {},
   "outputs": [
    {
     "name": "stdout",
     "output_type": "stream",
     "text": [
      "True\n",
      "False\n"
     ]
    }
   ],
   "source": [
    "from collections import OrderedDict \n",
    "\n",
    "def checkOrder(string, pattern): \n",
    "    dict5 = OrderedDict.fromkeys(string) \n",
    "    ptr = 0\n",
    "    for k,v in dict5.items(): \n",
    "        if (k == pattern[ptr]): \n",
    "            ptr = ptr + 1\n",
    "        if (ptr == (len(pattern))): \n",
    "            return 'True'\n",
    "    return 'False'\n",
    "\n",
    "string1 = 'hello how are you hello'\n",
    "pattern1 = 'he'\n",
    "print (checkOrder(string1,pattern1)) # True ==> 'h' is following 'e' in whole string\n",
    "\n",
    "string2= 'Data Science eat'\n",
    "pattern2= 'et'\n",
    "print (checkOrder(string2,pattern2)) # False ==> 'e' is not follwed by 't' in whole string"
   ]
  },
  {
   "cell_type": "markdown",
   "id": "c7f1ef25",
   "metadata": {},
   "source": [
    "### 7. Write a Python program to sort Python Dictionaries by Key or Value?"
   ]
  },
  {
   "cell_type": "code",
   "execution_count": 42,
   "id": "3b33fe16",
   "metadata": {},
   "outputs": [
    {
     "name": "stdout",
     "output_type": "stream",
     "text": [
      "Sort by dictionary key:\n",
      "{'ab': 234, 'bc': 123, 'dfg': 678, 'xy': 0}\n",
      "Sort by dictionary value:\n",
      "{'xy': 0, 'bc': 123, 'ab': 234, 'dfg': 678}\n"
     ]
    }
   ],
   "source": [
    "d_items = {'bc':123,'xy':0,'ab':234,'dfg':678}\n",
    "\n",
    "def sort_dict(in_dict,sort_type):\n",
    "    if sort_type == 'key':\n",
    "        print(\"Sort by dictionary key:\")\n",
    "        print(dict(sorted(in_dict.items(), key=lambda x:x[0], reverse=False)))\n",
    "    else:\n",
    "        print(\"Sort by dictionary value:\")\n",
    "        print(dict(sorted(in_dict.items(), key=lambda x:x[1], reverse=False)))\n",
    "        \n",
    "sort_dict(d_items,'key')        \n",
    "sort_dict(d_items,'value')"
   ]
  },
  {
   "cell_type": "code",
   "execution_count": null,
   "id": "550dbd33",
   "metadata": {},
   "outputs": [],
   "source": []
  }
 ],
 "metadata": {
  "kernelspec": {
   "display_name": "Python 3 (ipykernel)",
   "language": "python",
   "name": "python3"
  },
  "language_info": {
   "codemirror_mode": {
    "name": "ipython",
    "version": 3
   },
   "file_extension": ".py",
   "mimetype": "text/x-python",
   "name": "python",
   "nbconvert_exporter": "python",
   "pygments_lexer": "ipython3",
   "version": "3.9.12"
  }
 },
 "nbformat": 4,
 "nbformat_minor": 5
}
