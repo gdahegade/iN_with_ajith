{
 "cells": [
  {
   "cell_type": "markdown",
   "id": "76f366a2",
   "metadata": {},
   "source": [
    "# Programming_Assingment8"
   ]
  },
  {
   "cell_type": "markdown",
   "id": "6253c047",
   "metadata": {},
   "source": [
    "### 1.\tWrite a Python Program to Add Two Matrices"
   ]
  },
  {
   "cell_type": "code",
   "execution_count": 7,
   "id": "d778a354",
   "metadata": {},
   "outputs": [
    {
     "name": "stdout",
     "output_type": "stream",
     "text": [
      "x= [[1, 2, 3], [4, 5, 6], [7, 8, 9]]\n",
      "y= [[1, 2, 3], [4, 5, 6], [7, 8, 9]]\n",
      "Addition of above two matrices are: \n",
      " [[2, 4, 6], [8, 10, 12], [14, 16, 18]]\n"
     ]
    }
   ],
   "source": [
    "# two matrices can be added only if their dimensions are same.\n",
    "# lets consider both the matrices have same dimensions\n",
    "\n",
    "x = [\n",
    "        [1,2,3],\n",
    "        [4,5,6],\n",
    "        [7,8,9]\n",
    "    ]\n",
    "\n",
    "y = [\n",
    "        [1,2,3],\n",
    "        [4,5,6],\n",
    "        [7,8,9]\n",
    "    ]\n",
    "\n",
    "result = [[x[i][j] + y[i][j] for j in range(len(x[0]))] for i in range(len(x))]\n",
    "\n",
    "print(f\"x= {x}\")\n",
    "print(f\"y= {y}\")\n",
    "print(f\"Addition of above two matrices are: \\n {result}\")"
   ]
  },
  {
   "cell_type": "markdown",
   "id": "4aa7a12d",
   "metadata": {},
   "source": [
    "### 2.Write a Python Program to Multiply Two Matrices?"
   ]
  },
  {
   "cell_type": "code",
   "execution_count": 78,
   "id": "420ebe69",
   "metadata": {},
   "outputs": [
    {
     "name": "stdout",
     "output_type": "stream",
     "text": [
      "Two matrix product without using numpy: \n",
      "[[30, 36, 42], [66, 81, 96], [102, 126, 150]]\n",
      "Two matrix product using numpy: \n",
      "[[ 30  36  42]\n",
      " [ 66  81  96]\n",
      " [102 126 150]]\n"
     ]
    }
   ],
   "source": [
    "# The product of two matrices will be defined \n",
    "# if the number of columns in the first matrix \n",
    "# is equal to \n",
    "# the number of rows in the second matrix\n",
    "\n",
    "x = [\n",
    "        [1,2,3],\n",
    "        [4,5,6],\n",
    "        [7,8,9]\n",
    "    ]\n",
    "\n",
    "y = [\n",
    "        [1,2,3],\n",
    "        [4,5,6],\n",
    "        [7,8,9]\n",
    "    ]\n",
    "\n",
    "r = [\n",
    "    [0,0,0],\n",
    "    [0,0,0],\n",
    "    [0,0,0]\n",
    "]\n",
    "\n",
    "#-------------------- without using numpy \n",
    "print(\"Two matrix product without using numpy: \")\n",
    "for i in range(len(x)): # rows of x\n",
    "    for j in range(len(y[0])): # columns of y\n",
    "        for k in range(len(y)): # rows of y\n",
    "            r[i][j] = r[i][j] + (x[i][k] * y[k][j])    \n",
    "print(r)\n",
    "\n",
    "#-------------------- using numpy \n",
    "print(\"Two matrix product using numpy: \")\n",
    "import numpy as np\n",
    "z = np.dot(x,y)\n",
    "print(z)"
   ]
  },
  {
   "cell_type": "markdown",
   "id": "cc348f0c",
   "metadata": {},
   "source": [
    "### 3.Write a Python Program to Transpose a Matrix"
   ]
  },
  {
   "cell_type": "code",
   "execution_count": 79,
   "id": "f8fcfa7b",
   "metadata": {},
   "outputs": [
    {
     "name": "stdout",
     "output_type": "stream",
     "text": [
      "Original matrix:\n",
      " [[1, 2, 3], [4, 5, 6], [7, 8, 9]]\n",
      "Matrix transpose using numpy: \n",
      "[[1 4 7]\n",
      " [2 5 8]\n",
      " [3 6 9]]\n",
      "Matrix transpose without using numpy: \n",
      "[[1, 4, 7], [2, 5, 8], [3, 6, 9]]\n"
     ]
    }
   ],
   "source": [
    "x = [\n",
    "        [1,2,3],\n",
    "        [4,5,6],\n",
    "        [7,8,9]\n",
    "    ]\n",
    "print(\"Original matrix:\\n\", x)\n",
    "\n",
    "print(\"Matrix transpose using numpy: \")\n",
    "print(np.transpose(x))\n",
    "\n",
    "\n",
    "print(\"Matrix transpose without using numpy: \")\n",
    "t_x =  [ [x[j][i] for j in range(len(x[0]))] for i in range(len(x)) ]\n",
    "print(t_x)"
   ]
  },
  {
   "cell_type": "markdown",
   "id": "4a496c23",
   "metadata": {},
   "source": [
    "### 4.Write a Python Program to Sort Words in Alphabetic Order"
   ]
  },
  {
   "cell_type": "code",
   "execution_count": 80,
   "id": "1993db32",
   "metadata": {},
   "outputs": [
    {
     "name": "stdout",
     "output_type": "stream",
     "text": [
      "Before alphabetical sort: \n",
      " This is the Example string has Case sensitive words to sort the words in Alphabetic and alphabetic order Order\n",
      "After alphabetical sort: \n",
      " alphabetic alphabetic and case example has in is order order sensitive sort string the the this to words words\n"
     ]
    }
   ],
   "source": [
    "in_str = \"This is the Example string has Case sensitive words to sort the words in Alphabetic and alphabetic order Order\"\n",
    "# convert all the words to lower case and sort\n",
    "words = in_str.lower().split()\n",
    "words.sort()\n",
    "print(\"Before alphabetical sort: \\n\", in_str )\n",
    "print(\"After alphabetical sort: \\n\", ' '.join(words))"
   ]
  },
  {
   "cell_type": "markdown",
   "id": "2beb168e",
   "metadata": {},
   "source": [
    "### 5.Write a Python Program to Remove Punctuation From a String"
   ]
  },
  {
   "cell_type": "code",
   "execution_count": 81,
   "id": "04c35ac1",
   "metadata": {},
   "outputs": [
    {
     "name": "stdout",
     "output_type": "stream",
     "text": [
      "All available punctuations are: \n",
      " !\"#$%&'()*+,-./:;<=>?@[\\]^_`{|}~\n",
      "String before removing the punctuaitons is: \n",
      " a!b\"c#d$e%f&g'h(i)j*k+l,m-n.q/p:r;s<t=u>v?w@x[y\\z]a^b_c`d{e|f}g~h\n",
      "String after removing the punctuaitons is: \n",
      " abcdefghijklmnqprstuvwxyzabcdefgh\n"
     ]
    }
   ],
   "source": [
    "import string\n",
    "print(\"All available punctuations are: \\n\", string.punctuation)\n",
    "\n",
    "#make use of \"\"\" \"\"\" to define string bcoz punctuation includes \" and '\n",
    "s = \"\"\"a!b\"c#d$e%f&g'h(i)j*k+l,m-n.q/p:r;s<t=u>v?w@x[y\\z]a^b_c`d{e|f}g~h\"\"\"\n",
    "finalStr = \"\"\n",
    "for i in s :\n",
    "    if i not in string.punctuation:\n",
    "        finalStr = finalStr + i\n",
    "print(\"String before removing the punctuaitons is: \\n\", s)\n",
    "print(\"String after removing the punctuaitons is: \\n\", finalStr)"
   ]
  },
  {
   "cell_type": "code",
   "execution_count": null,
   "id": "08abee27",
   "metadata": {},
   "outputs": [],
   "source": []
  }
 ],
 "metadata": {
  "kernelspec": {
   "display_name": "Python 3 (ipykernel)",
   "language": "python",
   "name": "python3"
  },
  "language_info": {
   "codemirror_mode": {
    "name": "ipython",
    "version": 3
   },
   "file_extension": ".py",
   "mimetype": "text/x-python",
   "name": "python",
   "nbconvert_exporter": "python",
   "pygments_lexer": "ipython3",
   "version": "3.9.12"
  }
 },
 "nbformat": 4,
 "nbformat_minor": 5
}
